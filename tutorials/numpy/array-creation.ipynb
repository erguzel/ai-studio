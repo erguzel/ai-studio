{
 "cells": [
  {
   "cell_type": "code",
   "execution_count": 2,
   "metadata": {},
   "outputs": [],
   "source": [
    "#https://numpy.org/doc/1.23/user/basics.creation.html\n",
    "\n",
    "import exchelp.exception_helper  as eh\n",
    "import numpy as np"
   ]
  },
  {
   "cell_type": "markdown",
   "metadata": {},
   "source": [
    "There are 6 general mechanisms for creating arrays:\n",
    "\n",
    "   * Conversion from other Python structures (i.e. lists and tuples)\n",
    "\n",
    "   * Intrinsic NumPy array creation functions (e.g. arange, ones, zeros, etc.)\n",
    "\n",
    "   * Replicating, joining, or mutating existing arrays\n",
    "\n",
    "   * Reading arrays from disk, either from standard or custom formats\n",
    "\n",
    "   * Creating arrays from raw bytes through the use of strings or buffers\n",
    "\n",
    "   * Use of special library functions (e.g., random)\n",
    "\n",
    "You can use these methods to create ndarrays or Structured arrays. This document will cover general methods for ndarray creation."
   ]
  },
  {
   "cell_type": "markdown",
   "metadata": {},
   "source": [
    "## Initialize from python sequences"
   ]
  },
  {
   "cell_type": "code",
   "execution_count": 3,
   "metadata": {},
   "outputs": [
    {
     "name": "stdout",
     "output_type": "stream",
     "text": [
      "[1 2 3 4] shape: (4,) size: 4\n",
      "[[1 2 3 4]] shape: (1, 4) size: 4\n",
      "[[1 2]\n",
      " [3 4]] shape: (2, 2) size: 4\n"
     ]
    }
   ],
   "source": [
    "a1d = np.array([1,2,3,4])\n",
    "a2d2 = np.array([[1,2,3,4]])\n",
    "a2d = np.array([[1,2],[3,4]])\n",
    "print(a1d, \"shape:\",a1d.shape,'size:',a1d.size)\n",
    "print(a2d2, \"shape:\",a2d2.shape,'size:',a2d2.size)\n",
    "print(a2d, 'shape:',a2d.shape,\"size:\",a2d.size)"
   ]
  },
  {
   "cell_type": "code",
   "execution_count": 4,
   "metadata": {},
   "outputs": [
    {
     "name": "stdout",
     "output_type": "stream",
     "text": [
      "[[[1 2]\n",
      "  [2 1]\n",
      "  [2 2]]\n",
      "\n",
      " [[3 2]\n",
      "  [2 3]\n",
      "  [3 3]]\n",
      "\n",
      " [[4 3]\n",
      "  [3 4]\n",
      "  [4 4]]] shape: (3, 3, 2) size: 18\n"
     ]
    }
   ],
   "source": [
    "#\n",
    "# A 3x3 matrix of which elements are 1x2 arrays\n",
    "#\n",
    "a3d = np.array([\n",
    "    [\n",
    "        [1,2], [2,1],[2,2]\n",
    "    ],\n",
    "    [\n",
    "        [3,2],[2,3],[3,3]\n",
    "    ],\n",
    "    [\n",
    "        [4,3],[3,4],[4,4]\n",
    "    ]\n",
    "])\n",
    "\n",
    "print(a3d, 'shape:',a3d.shape,\"size:\",a3d.size)"
   ]
  },
  {
   "cell_type": "code",
   "execution_count": 5,
   "metadata": {},
   "outputs": [
    {
     "name": "stdout",
     "output_type": "stream",
     "text": [
      "[[[[1 2]\n",
      "   [3 4]]\n",
      "\n",
      "  [[4 3]\n",
      "   [2 1]]]\n",
      "\n",
      "\n",
      " [[[5 6]\n",
      "   [7 8]]\n",
      "\n",
      "  [[7 8]\n",
      "   [5 6]]]] shape: (2, 2, 2, 2) size: 16\n"
     ]
    }
   ],
   "source": [
    "#\n",
    "# A 2x2 matrix of which elemets are 2x2 matrixes\n",
    "#\n",
    "a4d = np.array([\n",
    "    [np.array([[1,2],[3,4]]),np.array([[4,3],[2,1]])],\n",
    "    [np.array([[5,6],[7,8]]), np.array([[7,8],[5,6]])]\n",
    "])\n",
    "\n",
    "print(a4d, 'shape:',a4d.shape,\"size:\",a4d.size)"
   ]
  },
  {
   "cell_type": "markdown",
   "metadata": {},
   "source": [
    "### Defining elemet datatype"
   ]
  },
  {
   "cell_type": "code",
   "execution_count": 6,
   "metadata": {},
   "outputs": [
    {
     "name": "stdout",
     "output_type": "stream",
     "text": [
      "[ 127 -128 -127] elementTypeInt8 True\n",
      "[127 128 129] elementTypeInt16 True\n"
     ]
    }
   ],
   "source": [
    "#\n",
    "# wrong data type usage \n",
    "#\n",
    "\n",
    "a = np.array([\n",
    "    127,128,129\n",
    "],dtype=np.int8)\n",
    "a\n",
    "print(a,'elementTypeInt8',eh.check_type(a[0],np.int8,typecheckmode=eh.TypeCheckMode.SUBTYPE))\n",
    "\n",
    "a = np.array([\n",
    "    127,128,129\n",
    "],dtype=np.int16)\n",
    "a\n",
    "print(a,'elementTypeInt16',eh.check_type(a[0],np.int16,typecheckmode=eh.TypeCheckMode.SUBTYPE))"
   ]
  },
  {
   "cell_type": "code",
   "execution_count": 7,
   "metadata": {},
   "outputs": [
    {
     "name": "stdout",
     "output_type": "stream",
     "text": [
      "[2 3 4] [5 6 7]\n",
      "both as uint: [4294967293 4294967293 4294967293] result_type: uint32\n",
      "both as int32: [-3 -3 -3] result_type: int32\n",
      "one as uint32 other is int32: [-3 -3 -3] result_type: int64\n"
     ]
    }
   ],
   "source": [
    "#\n",
    "# wrong data type usage \n",
    "#\n",
    "a = np.array([\n",
    "    2,3,4\n",
    "],dtype=np.uint32)\n",
    "b = np.array([\n",
    "    5,6,7\n",
    "],dtype=np.uint32)\n",
    "print(a,b)\n",
    "c_dif = (a - b)\n",
    "print('both as uint:',c_dif,'result_type:',c_dif.dtype)\n",
    "###\n",
    "a= a.astype(np.int32)\n",
    "b = b.astype(np.int32)\n",
    "c_dif = (a - b)\n",
    "print('both as int32:',c_dif,'result_type:',c_dif.dtype)\n",
    "###\n",
    "a= a.astype(np.uint32)\n",
    "b = b.astype(np.uint32)\n",
    "c_dif = (a - b.astype(np.int32))\n",
    "print('one as uint32 other is int32:',c_dif,'result_type:',c_dif.dtype)\n"
   ]
  },
  {
   "cell_type": "markdown",
   "metadata": {},
   "source": []
  },
  {
   "attachments": {},
   "cell_type": "markdown",
   "metadata": {},
   "source": [
    "## Shorthand 1D array initializations"
   ]
  },
  {
   "attachments": {},
   "cell_type": "markdown",
   "metadata": {},
   "source": [
    "### arrange\n",
    "\n",
    "numpy.arange creates arrays with regularly incrementing values. "
   ]
  },
  {
   "cell_type": "code",
   "execution_count": 8,
   "metadata": {},
   "outputs": [
    {
     "name": "stdout",
     "output_type": "stream",
     "text": [
      "1d: [0 1 2 3 4 5 6 7 8 9]\n",
      "1d: [ 2.  3.  4.  5.  6.  7.  8.  9. 10. 11.] type: float64\n",
      "1d: [2.  2.1 2.2 2.3 2.4 2.5 2.6 2.7 2.8 2.9] type: float64\n"
     ]
    }
   ],
   "source": [
    "a = np.arange(10)\n",
    "print('1d:',a)\n",
    "# start from bottom inclusive to ceilign exclusive\n",
    "a = np.arange(2,12,dtype=float)\n",
    "print('1d:',a,\"type:\",a.dtype)\n",
    "###\n",
    "a = np.arange(2,3,0.1)\n",
    "print('1d:',a,\"type:\",a.dtype)"
   ]
  },
  {
   "attachments": {},
   "cell_type": "markdown",
   "metadata": {},
   "source": [
    "### linespace\n",
    "\n",
    "numpy.linspace will create arrays with a specified number of elements, and spaced equally between the specified beginning and end values.\n",
    " \n",
    "Guaranteed the number of elements and the starting and end point."
   ]
  },
  {
   "cell_type": "code",
   "execution_count": 9,
   "metadata": {},
   "outputs": [
    {
     "name": "stdout",
     "output_type": "stream",
     "text": [
      "[1.         1.27272727 1.54545455 1.81818182 2.09090909 2.36363636\n",
      " 2.63636364 2.90909091 3.18181818 3.45454545 3.72727273 4.        ] (12,)\n"
     ]
    }
   ],
   "source": [
    "a = np.linspace(1.,4.,12)\n",
    "print(a,a.shape)"
   ]
  },
  {
   "attachments": {},
   "cell_type": "markdown",
   "metadata": {},
   "source": [
    "## Shorthand 2D array initialization"
   ]
  },
  {
   "attachments": {},
   "cell_type": "markdown",
   "metadata": {},
   "source": [
    "### eye, diag, vander\n",
    "\n",
    "The 2D array creation functions e.g. numpy.eye, numpy.diag, and numpy.vander define properties of special matrices represented as 2D arrays."
   ]
  },
  {
   "cell_type": "markdown",
   "metadata": {},
   "source": []
  },
  {
   "cell_type": "code",
   "execution_count": 10,
   "metadata": {},
   "outputs": [
    {
     "name": "stdout",
     "output_type": "stream",
     "text": [
      "[[1. 0. 0.]\n",
      " [0. 1. 0.]\n",
      " [0. 0. 1.]] shape: (3, 3)\n",
      "[[1. 0. 0. 0. 0. 0.]\n",
      " [0. 1. 0. 0. 0. 0.]\n",
      " [0. 0. 1. 0. 0. 0.]] shape: (3, 6)\n"
     ]
    }
   ],
   "source": [
    "# Identity matrix mxm\n",
    "idmx = np.eye(3)\n",
    "print(idmx,'shape:',idmx.shape)\n",
    "\n",
    "#eye matrix nxm\n",
    "idmx = np.eye(3,6)\n",
    "print(idmx,'shape:',idmx.shape)"
   ]
  },
  {
   "cell_type": "code",
   "execution_count": 11,
   "metadata": {},
   "outputs": [
    {
     "name": "stdout",
     "output_type": "stream",
     "text": [
      "[[1 0 0]\n",
      " [0 2 0]\n",
      " [0 0 3]] shape: (3, 3)\n",
      "[[0 0 1 0 0]\n",
      " [0 0 0 2 0]\n",
      " [0 0 0 0 3]\n",
      " [0 0 0 0 0]\n",
      " [0 0 0 0 0]] shape: (5, 5)\n",
      "[[1 2 3]\n",
      " [4 5 6]\n",
      " [7 8 9]] diagonals: [1 5 9]\n"
     ]
    }
   ],
   "source": [
    "#\n",
    "# Diagonal matrix\n",
    "#\n",
    "dia = np.diag([1,2,3])\n",
    "print(dia,'shape:',dia.shape)\n",
    "##\n",
    "dia = np.diag([1,2,3],2)\n",
    "print(dia,'shape:',dia.shape)\n",
    "##\n",
    "a = np.array([\n",
    "    [1,2,3],\n",
    "    [4,5,6],\n",
    "    [7,8,9]\n",
    "])\n",
    "print(a,'diagonals:',np.diag(a))"
   ]
  },
  {
   "attachments": {},
   "cell_type": "markdown",
   "metadata": {},
   "source": [
    "### Vandermonde matrix"
   ]
  },
  {
   "attachments": {},
   "cell_type": "markdown",
   "metadata": {},
   "source": [
    "#### one common application: polynomal fit\n",
    "\n",
    "Suppose I have a set of points, say (1,2),(5,3),(−2,0),(7,−1). Let's find a polynomial 𝑝(𝑥)\n",
    "\n",
    "that passes through these points. So we have\n",
    "\n",
    "𝑝(1)=2,𝑝(5)=3,𝑝(−2)=0,𝑝(7)=−1\n",
    "\n",
    ".\n",
    "\n",
    "We can use a cubic polynomial 𝑝(𝑥)=𝑎𝑥3+𝑏𝑥2+𝑐𝑥+𝑑<br>\n",
    "so that we have four equations and four unknowns. Hence\n",
    "\n",
    "𝑝(1)=2\n",
    "means 𝑎(1)3+𝑏(1)2+𝑐(1)+𝑑=2 <br>\n",
    "𝑝(5)=3 means 𝑎(5)3+𝑏(5)2+𝑐(5)+𝑑=3<br>\n",
    "𝑝(−2)=0 means 𝑎(−2)3+𝑏(−2)2+𝑐(−2)+𝑑=0<br>\n",
    "𝑝(7)=−1 means 𝑎(7)3+𝑏(7)2+𝑐(7)+𝑑=−1<br>\n",
    "\n",
    "So we have\n",
    "$$\n",
    "\n",
    "$$\n",
    "$$\n",
    "\n",
    "\\begin{bmatrix} \n",
    "1^0 & 1^1 & 1^2 & 1^3 \\\\ \n",
    "5^0 & 5^1 & 5^2 & 5^3 \\\\ \n",
    "(-2)^0 & (-2)^1 & (-2)^2 & (-2) ^3 \\\\\n",
    "7^0 & 7^1 & 7^2 & 7^3 \\\\\n",
    "\\end{bmatrix}\n",
    "\\begin{bmatrix}\n",
    "d\\\\\n",
    "c\\\\\n",
    "b\\\\\n",
    "a\n",
    "\\end{bmatrix}\n",
    "=\n",
    "\\begin{bmatrix}\n",
    "2 \\\\\n",
    "3\\\\\n",
    "0\\\\\n",
    "1\n",
    "\\end{bmatrix}\n",
    "$$\n",
    "\n",
    "So a Vandermonde matrix is used naturally to find a polynomial passing through known points. <br>\n",
    "\n",
    "#### another application  Vandermonde-like matrix appears in Digital Signal Processing\n",
    "Digital Signal Processing in the computation of the DFT (Discrete Fourier transform) and the IDFT (Inverse Discrete Fourier Transform). <br>\n",
    "In short, the DFT is used to convert equi-spaced samples of a function in the time domain to the frequency domain. The IDFT does the exact opposite.\n"
   ]
  },
  {
   "attachments": {},
   "cell_type": "markdown",
   "metadata": {},
   "source": [
    "### vander(x, n) defines a Vandermonde matrix as a 2D NumPy array."
   ]
  },
  {
   "cell_type": "code",
   "execution_count": 12,
   "metadata": {},
   "outputs": [
    {
     "name": "stdout",
     "output_type": "stream",
     "text": [
      "[0.  0.5 1.  1.5 2. ] (5,) \n",
      " [[0.   0.   1.  ]\n",
      " [0.25 0.5  1.  ]\n",
      " [1.   1.   1.  ]\n",
      " [2.25 1.5  1.  ]\n",
      " [4.   2.   1.  ]] (5, 3)\n"
     ]
    }
   ],
   "source": [
    "# to degree 2\n",
    "lspace = np.linspace(0,2,5)\n",
    "a = np.vander(lspace,3)\n",
    "print(lspace,lspace.shape,'\\n',a,a.shape)"
   ]
  },
  {
   "cell_type": "code",
   "execution_count": 13,
   "metadata": {},
   "outputs": [
    {
     "name": "stdout",
     "output_type": "stream",
     "text": [
      "[[1 1]\n",
      " [2 1]\n",
      " [3 1]\n",
      " [4 1]] (4, 2)\n"
     ]
    }
   ],
   "source": [
    "# to degree 1\n",
    "a = np.vander([1,2,3,4],2)\n",
    "print(a,a.shape)"
   ]
  },
  {
   "cell_type": "code",
   "execution_count": 14,
   "metadata": {},
   "outputs": [
    {
     "name": "stdout",
     "output_type": "stream",
     "text": [
      "[[ 1  1  1  1]\n",
      " [ 8  4  2  1]\n",
      " [27  9  3  1]\n",
      " [64 16  4  1]] (4, 4)\n",
      "[[ 1  1  1  1]\n",
      " [ 8  4  2  1]\n",
      " [27  9  3  1]\n",
      " [64 16  4  1]] (4, 4)\n"
     ]
    }
   ],
   "source": [
    "#to defgree 3\n",
    "a = np.vander([1,2,3,4],4)\n",
    "print(a,a.shape)\n",
    "\n",
    "#to defgree 3 tupple\n",
    "a = np.vander((1,2,3,4),4)\n",
    "print(a,a.shape)"
   ]
  },
  {
   "attachments": {},
   "cell_type": "markdown",
   "metadata": {},
   "source": [
    "## Shorthand ND array initializations"
   ]
  },
  {
   "attachments": {},
   "cell_type": "markdown",
   "metadata": {},
   "source": [
    "### np.zeros\n",
    "will create an array filled with 0 values with the specified shape. The default dtype is float64:"
   ]
  },
  {
   "cell_type": "code",
   "execution_count": 15,
   "metadata": {},
   "outputs": [
    {
     "name": "stdout",
     "output_type": "stream",
     "text": [
      "[[0. 0. 0.]\n",
      " [0. 0. 0.]] (2, 3) float64\n",
      "[[[0. 0. 0. 0.]\n",
      "  [0. 0. 0. 0.]\n",
      "  [0. 0. 0. 0.]]\n",
      "\n",
      " [[0. 0. 0. 0.]\n",
      "  [0. 0. 0. 0.]\n",
      "  [0. 0. 0. 0.]]] (2, 3, 4) float64\n"
     ]
    }
   ],
   "source": [
    "a = np.zeros((2,3))\n",
    "print(a,a.shape,a.dtype)\n",
    "a = np.zeros((2,3,4))\n",
    "print(a,a.shape, a.dtype)"
   ]
  },
  {
   "attachments": {},
   "cell_type": "markdown",
   "metadata": {},
   "source": [
    "### np.ones\n",
    "will create an array filled with 1 values. It is identical to zeros. The default dtype is float64:"
   ]
  },
  {
   "cell_type": "code",
   "execution_count": 16,
   "metadata": {},
   "outputs": [
    {
     "name": "stdout",
     "output_type": "stream",
     "text": [
      "[[1. 1. 1.]\n",
      " [1. 1. 1.]] (2, 3) float64\n",
      "[[[1. 1. 1. 1.]\n",
      "  [1. 1. 1. 1.]\n",
      "  [1. 1. 1. 1.]]\n",
      "\n",
      " [[1. 1. 1. 1.]\n",
      "  [1. 1. 1. 1.]\n",
      "  [1. 1. 1. 1.]]] (2, 3, 4) float64\n"
     ]
    }
   ],
   "source": [
    "a = np.ones((2,3))\n",
    "print(a,a.shape,a.dtype)\n",
    "a = np.ones((2,3,4))\n",
    "print(a,a.shape, a.dtype)"
   ]
  },
  {
   "attachments": {},
   "cell_type": "markdown",
   "metadata": {},
   "source": [
    "### numpy.random.default_rng\n",
    "\n",
    "The random method of the result of default_rng will create an array filled with random values between 0 and 1. It is included with the numpy.random library. \n"
   ]
  },
  {
   "cell_type": "markdown",
   "metadata": {},
   "source": []
  },
  {
   "cell_type": "code",
   "execution_count": 17,
   "metadata": {},
   "outputs": [
    {
     "name": "stdout",
     "output_type": "stream",
     "text": [
      "[[0.01155961 0.15255782 0.03963661]\n",
      " [0.46571509 0.48474455 0.23006173]] (2, 3) float64\n",
      "[[[0.77395605 0.43887844]\n",
      "  [0.85859792 0.69736803]\n",
      "  [0.09417735 0.97562235]]\n",
      "\n",
      " [[0.7611397  0.78606431]\n",
      "  [0.12811363 0.45038594]\n",
      "  [0.37079802 0.92676499]]] (2, 3, 2) float64\n"
     ]
    }
   ],
   "source": [
    "from numpy.random import default_rng\n",
    "\n",
    "\n",
    "a = default_rng().random((2,3))\n",
    "print(a,a.shape,a.dtype)\n",
    "# give a seed to reproduce same values\n",
    "seed = 42\n",
    "a = default_rng(seed=seed).random((2,3,2))\n",
    "print(a,a.shape,a.dtype)"
   ]
  },
  {
   "attachments": {},
   "cell_type": "markdown",
   "metadata": {},
   "source": [
    "### numpy.indices\n",
    "will create a set of arrays (stacked as a one-higher dimensioned array), one per dimension with each representing variation in that dimension.\n",
    "This is particularly useful for evaluating functions of multiple dimensions on a regular grid.\n"
   ]
  },
  {
   "cell_type": "code",
   "execution_count": 18,
   "metadata": {},
   "outputs": [
    {
     "name": "stdout",
     "output_type": "stream",
     "text": [
      "[[[0 0 0]\n",
      "  [1 1 1]]\n",
      "\n",
      " [[0 1 2]\n",
      "  [0 1 2]]] (2, 2, 3)\n",
      "rowindices: [[0 0 0]\n",
      " [1 1 1]] (2, 3)\n",
      "colindices: [[0 1 2]\n",
      " [0 1 2]] (2, 3)\n"
     ]
    }
   ],
   "source": [
    "a = np.indices((2,3))\n",
    "print(a,a.shape)\n",
    "i,j = a\n",
    "print('rowindices:',i,i.shape)\n",
    "print('colindices:',j,j.shape)\n",
    "\n"
   ]
  },
  {
   "cell_type": "code",
   "execution_count": 19,
   "metadata": {},
   "outputs": [
    {
     "data": {
      "text/plain": [
       "array([[0, 3, 6],\n",
       "       [2, 5, 8]])"
      ]
     },
     "execution_count": 19,
     "metadata": {},
     "output_type": "execute_result"
    }
   ],
   "source": [
    "### Example\n",
    "#Suppose you have a matrix M whose (i,j)-th element equals\n",
    "# M_ij = 2*i + 3*j\n",
    "#One way to define this matrix would be\n",
    "i, j = np.indices((2,3))\n",
    "M = 2*i + 3*j\n",
    "#which yields\n",
    "M"
   ]
  },
  {
   "attachments": {},
   "cell_type": "markdown",
   "metadata": {},
   "source": [
    "## Shorthand 2D array initializations"
   ]
  },
  {
   "attachments": {},
   "cell_type": "markdown",
   "metadata": {},
   "source": [
    "## Replicating, joining, or mutating existing arrays"
   ]
  },
  {
   "attachments": {},
   "cell_type": "markdown",
   "metadata": {},
   "source": [
    "### numpy.copy "
   ]
  },
  {
   "cell_type": "code",
   "execution_count": 20,
   "metadata": {},
   "outputs": [
    {
     "name": "stdout",
     "output_type": "stream",
     "text": [
      "[4 2 2 4 6 9] [4 2]\n",
      "[3 1 2 4 6 9] [4 2]\n"
     ]
    }
   ],
   "source": [
    "a = np.array([\n",
    "    3,1,2,4,6,9\n",
    "])\n",
    "b = a[:2]\n",
    "b += 1\n",
    "print(a,b) # addition still references to the original array\n",
    "\n",
    "#instead\n",
    "a = np.array([\n",
    "    3,1,2,4,6,9\n",
    "])\n",
    "b = a[:2].copy()\n",
    "b += 1\n",
    "print(a,b) # original array not affected\n",
    "\n",
    "\n"
   ]
  },
  {
   "attachments": {},
   "cell_type": "markdown",
   "metadata": {},
   "source": [
    "###  numpy.vstack, numpy.hstack, and numpy.block.\n",
    " join existing arrays\n",
    "\n",
    " #### np.block (arrs)"
   ]
  },
  {
   "cell_type": "code",
   "execution_count": 21,
   "metadata": {},
   "outputs": [
    {
     "name": "stdout",
     "output_type": "stream",
     "text": [
      "[[ 1.  1.  1.  0.]\n",
      " [ 1.  1.  0.  1.]\n",
      " [ 0.  0. -3.  0.]\n",
      " [ 0.  0.  0. -4.]] (4, 4)\n"
     ]
    }
   ],
   "source": [
    "A = np.ones((2, 2))\n",
    "B = np.eye(2, 2)\n",
    "C = np.zeros((2, 2))\n",
    "D = np.diag((-3, -4))\n",
    "E = np.block([[A, B], [C, D]])\n",
    "print(E, E.shape)\n"
   ]
  },
  {
   "attachments": {},
   "cell_type": "markdown",
   "metadata": {},
   "source": [
    "#### np.vstack (tup)\n",
    "\n",
    "Stack arrays in sequence vertically (row wise)."
   ]
  },
  {
   "cell_type": "code",
   "execution_count": 22,
   "metadata": {},
   "outputs": [
    {
     "name": "stdout",
     "output_type": "stream",
     "text": [
      "[[1 2 3]\n",
      " [4 5 6]] (2, 3)\n"
     ]
    }
   ],
   "source": [
    "a = np.array([\n",
    "    1,2,3\n",
    "])\n",
    "b = np.array([\n",
    "    4,5,6\n",
    "])\n",
    "vs = np.vstack((a,b))\n",
    "\n",
    "print(vs,vs.shape)"
   ]
  },
  {
   "cell_type": "code",
   "execution_count": 23,
   "metadata": {},
   "outputs": [
    {
     "name": "stdout",
     "output_type": "stream",
     "text": [
      "(3, 1)\n",
      "[[1]\n",
      " [2]\n",
      " [3]\n",
      " [4]\n",
      " [5]\n",
      " [6]] (6, 1)\n"
     ]
    }
   ],
   "source": [
    "a = np.array([\n",
    "    [1],\n",
    "    [2],\n",
    "    [3]\n",
    "])\n",
    "\n",
    "print(a.shape)\n",
    "\n",
    "b = np.array([\n",
    "    [4],\n",
    "    [5],\n",
    "    [6]\n",
    "])\n",
    "vs = np.vstack((a,b))\n",
    "print(vs,vs.shape)\n",
    "\n"
   ]
  },
  {
   "attachments": {},
   "cell_type": "markdown",
   "metadata": {},
   "source": [
    "#### np.hstack (tup)\n",
    "\n",
    "Stack arrays in sequence horizontally (column wise)."
   ]
  },
  {
   "cell_type": "code",
   "execution_count": 24,
   "metadata": {},
   "outputs": [
    {
     "name": "stdout",
     "output_type": "stream",
     "text": [
      "[1 2 3 4 5 6] (6,)\n"
     ]
    }
   ],
   "source": [
    "a = np.array([\n",
    "    1,2,3\n",
    "])\n",
    "\n",
    "b = np.array([\n",
    "    4,5,6\n",
    "])\n",
    "vs = np.hstack((a,b))\n",
    "\n",
    "print(vs,vs.shape)"
   ]
  },
  {
   "cell_type": "code",
   "execution_count": 25,
   "metadata": {},
   "outputs": [
    {
     "name": "stdout",
     "output_type": "stream",
     "text": [
      "[[1 4]\n",
      " [2 5]\n",
      " [3 6]] (3, 2)\n"
     ]
    }
   ],
   "source": [
    "a = np.array([\n",
    "    [1],\n",
    "    [2],\n",
    "    [3]\n",
    "])\n",
    "\n",
    "b = np.array([\n",
    "    [4],\n",
    "    [5],\n",
    "    [6]\n",
    "])\n",
    "vs = np.hstack((a,b))\n",
    "print(vs,vs.shape)"
   ]
  },
  {
   "attachments": {},
   "cell_type": "markdown",
   "metadata": {},
   "source": [
    "## Shorthand ND array initializations from Disk"
   ]
  },
  {
   "attachments": {},
   "cell_type": "markdown",
   "metadata": {},
   "source": [
    "#### numpy.loadtxt (no missing values)"
   ]
  },
  {
   "cell_type": "markdown",
   "metadata": {},
   "source": []
  },
  {
   "cell_type": "code",
   "execution_count": 26,
   "metadata": {},
   "outputs": [],
   "source": [
    "#create dummy csv\n",
    "a = np.array([\n",
    "    [0,1,2],\n",
    "    [3,4,5],\n",
    "    [6,7,8]\n",
    "])\n",
    "np.savetxt('test-array.csv',a,delimiter=',')\n",
    "\n",
    "a = np.loadtxt('test-array.csv',delimiter=',')\n",
    "print(a,a.shape)"
   ]
  },
  {
   "attachments": {},
   "cell_type": "markdown",
   "metadata": {},
   "source": [
    "#### numpy.genfromtxt (with missing values)"
   ]
  },
  {
   "cell_type": "code",
   "execution_count": 30,
   "metadata": {},
   "outputs": [
    {
     "name": "stdout",
     "output_type": "stream",
     "text": [
      "[[ 1.  2.  3.]\n",
      " [ 4. nan  6.]\n",
      " [ 7.  8.  9.]] (3, 3)\n"
     ]
    }
   ],
   "source": [
    "# with missing values - replaces with nan\n",
    "#create dummy array csv\n",
    "arr = '1,2,3\\n4, ,6\\n7,8,9'\n",
    "f = open('test-array.csv','w')\n",
    "a = f.write(arr)\n",
    "f.close()\n",
    "\n",
    "a = np.genfromtxt('test-array.csv',delimiter=',')\n",
    "print(a,a.shape)\n"
   ]
  },
  {
   "cell_type": "code",
   "execution_count": null,
   "metadata": {},
   "outputs": [],
   "source": []
  }
 ],
 "metadata": {
  "kernelspec": {
   "display_name": "ai-studio-env",
   "language": "python",
   "name": "python3"
  },
  "language_info": {
   "codemirror_mode": {
    "name": "ipython",
    "version": 3
   },
   "file_extension": ".py",
   "mimetype": "text/x-python",
   "name": "python",
   "nbconvert_exporter": "python",
   "pygments_lexer": "ipython3",
   "version": "3.10.8"
  },
  "vscode": {
   "interpreter": {
    "hash": "69f43e4e88b3450101ed86a8083b813d05d9b24811077b5788d6b86b166cba6f"
   }
  }
 },
 "nbformat": 4,
 "nbformat_minor": 4
}
